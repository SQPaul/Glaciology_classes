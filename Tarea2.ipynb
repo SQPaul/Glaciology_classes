{
 "cells": [
  {
   "cell_type": "markdown",
   "id": "68db8c9a-63a7-4377-87a6-53cfb21b858c",
   "metadata": {},
   "source": [
    "#### Import packages"
   ]
  },
  {
   "cell_type": "code",
   "execution_count": 19,
   "id": "d2d11dd5-531e-4ba1-900a-943d25fea966",
   "metadata": {},
   "outputs": [],
   "source": [
    "import pandas as pd\n",
    "import numpy as np"
   ]
  },
  {
   "cell_type": "markdown",
   "id": "715b9a77-8cd2-4186-87ac-c14f1943e6d7",
   "metadata": {},
   "source": [
    "#### Read documents"
   ]
  },
  {
   "cell_type": "code",
   "execution_count": 20,
   "id": "5a50e223-1160-4abd-9f7b-85c0cb4e6b94",
   "metadata": {},
   "outputs": [],
   "source": [
    "colonia = pd.read_csv(r\"C:\\Users\\pauls\\Desktop\\MSc_WaterResources\\2022\\2022-2\\Glaciologia\\Tareas\\T2\\Colonia.csv\")\n",
    "san_rafael = pd.read_csv(r\"C:\\Users\\pauls\\Desktop\\MSc_WaterResources\\2022\\2022-2\\Glaciologia\\Tareas\\T2\\SanRafael.csv\")"
   ]
  },
  {
   "cell_type": "markdown",
   "id": "939fad17-6d14-4d97-a125-338338d25985",
   "metadata": {},
   "source": [
    "#### Calculate glacier area"
   ]
  },
  {
   "cell_type": "code",
   "execution_count": 21,
   "id": "58c3b57d-ee03-4dba-89ad-d29ddfa5a667",
   "metadata": {},
   "outputs": [
    {
     "name": "stdout",
     "output_type": "stream",
     "text": [
      "San Rafael glacier =  721.305 km2\n",
      "Colonia glacier =  287.55 km2\n"
     ]
    }
   ],
   "source": [
    "area_colonia = colonia.iloc[:,2].sum()/(10**6)\n",
    "area_srafael = san_rafael.iloc[:,2].sum()/(10**6)\n",
    "\n",
    "print(\"San Rafael glacier = \", area_srafael, \"km2\")\n",
    "print(\"Colonia glacier = \", area_colonia, \"km2\")"
   ]
  },
  {
   "cell_type": "markdown",
   "id": "43ea10da-ca0a-49cd-a9e8-c1fbaf2fd51f",
   "metadata": {},
   "source": [
    "#### Calculate AAR"
   ]
  },
  {
   "cell_type": "code",
   "execution_count": 22,
   "id": "39849f63-0e46-4794-9a5a-7232b3f93868",
   "metadata": {},
   "outputs": [
    {
     "name": "stdout",
     "output_type": "stream",
     "text": [
      "San rafael AAR =  0.7164514317798989\n",
      "Colonia AAR =  0.6281690140845071\n"
     ]
    }
   ],
   "source": [
    "#Colonia glacier\n",
    "c_col = [] #cummulation\n",
    "a_col = [] #ablation\n",
    "c_a_col = [] #area cummulation\n",
    "a_a_col = [] #area ablation\n",
    "\n",
    "\n",
    "#San Rafael glacier\n",
    "c_raf = [] #cummulation\n",
    "a_raf = [] #ablation\n",
    "c_a_raf = [] #area cummulation\n",
    "a_a_raf = [] #area ablation\n",
    "\n",
    "for i in range(len(colonia)):\n",
    "    if colonia.iloc[i,1] >= 0:\n",
    "        c_col.append(colonia.iloc[i,1])\n",
    "        c_a_col.append(colonia.iloc[i,2])\n",
    "    else:\n",
    "        a_col.append(colonia.iloc[i,1])\n",
    "        a_a_col.append(colonia.iloc[i,2])\n",
    "\n",
    "for i in range(len(san_rafael)):\n",
    "    if san_rafael.iloc[i,1] >= 0:\n",
    "        c_raf.append(san_rafael.iloc[i,1])\n",
    "        c_a_raf.append(san_rafael.iloc[i,2])\n",
    "    else:\n",
    "        a_raf.append(san_rafael.iloc[i,1])\n",
    "        a_a_raf.append(san_rafael.iloc[i,2])\n",
    "\n",
    "\n",
    "c_col = sum(c_col)\n",
    "a_col = sum(a_col)\n",
    "c_a_col = sum(c_a_col) \n",
    "a_a_col = sum(a_a_col)\n",
    "\n",
    "c_raf = sum(c_raf)\n",
    "a_raf = sum(a_raf)\n",
    "c_a_raf = sum(c_a_raf) \n",
    "a_a_raf = sum(a_a_raf)\n",
    "\n",
    "#AAR\n",
    "AAR_colonia = c_a_col/(c_a_col+a_a_col) \n",
    "AAR_srafael = c_a_raf/(c_a_raf+a_a_raf) \n",
    "\n",
    "print(\"San rafael AAR = \", AAR_srafael)\n",
    "print(\"Colonia AAR = \", AAR_colonia)"
   ]
  },
  {
   "cell_type": "markdown",
   "id": "2288aa47-10d0-44bf-a949-f8e7918504f2",
   "metadata": {},
   "source": [
    "### Specific mass balance"
   ]
  },
  {
   "cell_type": "code",
   "execution_count": 71,
   "id": "933ddfd2-f8e9-4802-a927-5f9af34a73fc",
   "metadata": {},
   "outputs": [
    {
     "name": "stdout",
     "output_type": "stream",
     "text": [
      "Specific_SRafael=  0.0017015267798989333\n",
      "Specific_Colonia=  2.4227605633806046e-06\n"
     ]
    }
   ],
   "source": [
    "s_mb_srafael = (sum(san_rafael.iloc[:,1]*san_rafael.iloc[:,2])/(10**9))/area_srafael\n",
    "s_mb_colonia = (sum(colonia.iloc[:,1]*colonia.iloc[:,2])/(10**9))/area_colonia\n",
    "\n",
    "print(\"Specific_SRafael= \",s_mb_srafael)\n",
    "print(\"Specific_Colonia= \",s_mb_colonia)"
   ]
  },
  {
   "cell_type": "markdown",
   "id": "e7a150cb-9c26-4952-90c2-a01e21aa56cc",
   "metadata": {},
   "source": [
    "### Changes in ELA"
   ]
  },
  {
   "cell_type": "markdown",
   "id": "1dca439e-af3c-4a89-be0c-acc5761dc8bd",
   "metadata": {},
   "source": [
    "#### What happen if ELA increase 100m?"
   ]
  },
  {
   "cell_type": "markdown",
   "id": "4ef6e9b8-4019-489c-9d31-c527a791c07e",
   "metadata": {},
   "source": [
    "We have to assume that the mass balance distribución keep constant, and we have to work with the ELA interval due to the discret data."
   ]
  },
  {
   "cell_type": "markdown",
   "id": "f4e85c46-21b4-425a-9632-fb7f97db33bf",
   "metadata": {},
   "source": [
    "##### San Rafael"
   ]
  },
  {
   "cell_type": "code",
   "execution_count": 23,
   "id": "234c64b1-8a7e-401d-abdc-65191bc24029",
   "metadata": {},
   "outputs": [
    {
     "name": "stdout",
     "output_type": "stream",
     "text": [
      "-0.28241 0.32158\n",
      "22 23\n",
      "-14.33606 -15.308535 0.9724749999999993 0.9724750000000001\n"
     ]
    }
   ],
   "source": [
    "mb_min = []\n",
    "mb_max = []\n",
    "\n",
    "for i in range(len(san_rafael)):\n",
    "    if san_rafael.iloc[i,1] >= 0:\n",
    "        mb_max.append(san_rafael.iloc[i,1])\n",
    "    else:\n",
    "        mb_min.append(san_rafael.iloc[i,1])\n",
    "\n",
    "mb_min = max(mb_min)\n",
    "mb_max = min(mb_max)\n",
    "        \n",
    "print(mb_min,mb_max)\n",
    "\n",
    "for i in range(len(san_rafael)):\n",
    "    if san_rafael.iloc[i,1] == mb_min:\n",
    "        ela_min_sr= i\n",
    "    elif san_rafael.iloc[i,1] == mb_max:\n",
    "        ela_max_sr = i\n",
    "        \n",
    "print(ela_min_sr,ela_max_sr)\n",
    "\n",
    "#Correction factor to increase mass balance column\n",
    "\n",
    "sup = san_rafael.iloc[ela_max_sr+2,1]-san_rafael.iloc[ela_max_sr,1]\n",
    "inf = san_rafael.iloc[ela_min_sr+2,1]-san_rafael.iloc[ela_min_sr,1]\n",
    "f = (sup+inf)/2\n",
    "\n",
    "mb_corr = san_rafael.iloc[:,1]-f\n",
    "mb_corr\n",
    "\n",
    "san_rafael[\"SMB'(mweq)\"] = mb_corr\n",
    "\n",
    "san_rafael.to_csv(\"SanRafael_2.csv\")\n",
    "\n",
    "## Check if the calcules are correct\n",
    "print(san_rafael.iloc[0,1],mb_corr[0],san_rafael.iloc[0,1]-mb_corr[0],f)\n"
   ]
  },
  {
   "cell_type": "markdown",
   "id": "2f64420e-8ded-4aee-aee7-7bad3afe9162",
   "metadata": {},
   "source": [
    "##### Colonia"
   ]
  },
  {
   "cell_type": "code",
   "execution_count": 24,
   "id": "4b08caec-c0bf-4588-b80e-f4f388a8e93a",
   "metadata": {},
   "outputs": [
    {
     "name": "stdout",
     "output_type": "stream",
     "text": [
      "-0.39047 0.42332\n",
      "23 24\n"
     ]
    }
   ],
   "source": [
    "mb_min = []\n",
    "mb_max = []\n",
    "\n",
    "for i in range(len(colonia)):\n",
    "    if colonia.iloc[i,1] >= 0:\n",
    "        mb_max.append(colonia.iloc[i,1])\n",
    "    else:\n",
    "        mb_min.append(colonia.iloc[i,1])\n",
    "\n",
    "mb_min = max(mb_min)\n",
    "mb_max = min(mb_max)\n",
    "        \n",
    "print(mb_min,mb_max)\n",
    "\n",
    "for i in range(len(colonia)):\n",
    "    if colonia.iloc[i,1] == mb_min:\n",
    "        ela_min_c = i\n",
    "    elif colonia.iloc[i,1] == mb_max:\n",
    "        ela_max_c = i\n",
    "        \n",
    "print(ela_min_c,ela_max_c)\n",
    "\n",
    "#Correction factor to increase mass balance column\n",
    "\n",
    "sup = colonia.iloc[ela_max_c+2,1]-colonia.iloc[ela_max_c,1]\n",
    "inf = colonia.iloc[ela_min_c+2,1]-colonia.iloc[ela_min_c,1]\n",
    "f = (sup+inf)/2\n",
    "\n",
    "mb_corr = colonia.iloc[:,1]-f\n",
    "mb_corr\n",
    "\n",
    "colonia[\"SMB'(mweq)\"] = mb_corr\n",
    "\n",
    "colonia.to_csv(\"Colonia_2.csv\")\n",
    "\n",
    "#### Check if the calcules are correct\n",
    "#print(colonia.iloc[0,1],mb_corr[0],colonia.iloc[0,1]-mb_corr[0],f)"
   ]
  },
  {
   "cell_type": "markdown",
   "id": "9fa39667-da62-4a2d-a866-acf89f65dcde",
   "metadata": {},
   "source": [
    "#### Sensitivity calculation"
   ]
  },
  {
   "cell_type": "markdown",
   "id": "9d8d580c-51b2-4e79-811f-1ad3bde1dfe9",
   "metadata": {},
   "source": [
    "#### San Rafael"
   ]
  },
  {
   "cell_type": "code",
   "execution_count": 56,
   "id": "e62cfa49-93bb-4a3d-9361-75b8a1fc84ea",
   "metadata": {},
   "outputs": [
    {
     "name": "stdout",
     "output_type": "stream",
     "text": [
      "SMB=  1.227319773975 SMB'=  0.5258686940999998\n",
      "C=  515.09587 C'=  468.241225\n",
      "A=  -179.9959 A'=  -203.15945499999998\n",
      "AAR=  0.7164514317798989 AAR'=  0.5502526670409882\n",
      "c_perc =  -9.096295996316181 %\n",
      "a_perc =  12.86893479240359 %\n",
      "aar =  -23.197492163009404 %\n"
     ]
    }
   ],
   "source": [
    "#Mass balance\n",
    "smb = sum(san_rafael.iloc[:,1]*san_rafael.iloc[:,2])/(10**9)\n",
    "smb_p = sum(san_rafael.iloc[:,3]*san_rafael.iloc[:,2])/(10**9)\n",
    "\n",
    "print(\"SMB= \",float(smb),\"SMB'= \",float(smb_p))\n",
    "\n",
    "#Accumulation\n",
    "c = san_rafael.iloc[ela_max_sr:,[1]].sum() \n",
    "c_p = san_rafael.iloc[ela_max_sr+2:,[3]].sum()\n",
    "c = float(c)\n",
    "c_p = float(c_p)\n",
    "\n",
    "print(\"C= \",float(c),\"C'= \",float(c_p))\n",
    "\n",
    "#Ablation\n",
    "a = san_rafael.iloc[:ela_max_sr,[1]].sum() \n",
    "a_p = san_rafael.iloc[:ela_max_sr+2,[3]].sum()\n",
    "a = float(a)\n",
    "a_p = float(a_p)\n",
    "\n",
    "\n",
    "print(\"A= \",float(a),\"A'= \",float(a_p))\n",
    "\n",
    "aar = san_rafael.iloc[ela_max_sr:,[2]].sum()/sum(san_rafael.iloc[:,2])\n",
    "aar = float(aar)\n",
    "\n",
    "aar_p = san_rafael.iloc[ela_max_sr+2:,[2]].sum()/sum(san_rafael.iloc[:,2])\n",
    "aar_p = float(aar_p)\n",
    "\n",
    "print(\"AAR= \",aar,\"AAR'= \",aar_p)\n",
    "\n",
    "#% difference\n",
    "\n",
    "c_perc = (c_p-c)*100/c\n",
    "a_perc = (a_p-a)*100/a\n",
    "aar_perc = (aar_p-aar)*100/aar\n",
    "\n",
    "print(\"c_perc = \",c_perc,\"%\")\n",
    "print(\"a_perc = \",a_perc,\"%\")\n",
    "print(\"aar = \",aar_perc,\"%\")"
   ]
  },
  {
   "cell_type": "markdown",
   "id": "63b4fcde-f4e2-4cac-8532-e6c352beeb97",
   "metadata": {
    "tags": []
   },
   "source": [
    "##### Colonia"
   ]
  },
  {
   "cell_type": "code",
   "execution_count": 70,
   "id": "20b058f6-d545-4561-83de-4348267f98a1",
   "metadata": {},
   "outputs": [
    {
     "name": "stdout",
     "output_type": "stream",
     "text": [
      "SMB=  0.0006966648000000929 SMB'=  -0.5926929529500001\n",
      "C=  363.00133999999997 C'=  288.536685\n",
      "A=  -251.34169 A'=  -302.75694\n",
      "AAR=  0.6281690140845071 AAR'=  0.5690140845070423\n",
      "c_perc =  -20.51360333821357 %\n",
      "a_perc =  20.456315862282928 %\n",
      "aar =  -9.417040358744398 %\n"
     ]
    }
   ],
   "source": [
    "#Mass balance\n",
    "smb = sum(colonia.iloc[:,1]*colonia.iloc[:,2])/(10**9)\n",
    "smb_p = sum(colonia.iloc[:,3]*colonia.iloc[:,2])/(10**9)\n",
    "\n",
    "print(\"SMB= \",float(smb),\"SMB'= \",float(smb_p))\n",
    "\n",
    "#Accumulation\n",
    "c = colonia.iloc[ela_max_c:,[1]].sum() \n",
    "c_p = colonia.iloc[ela_max_c+2:,[3]].sum()\n",
    "c = float(c)\n",
    "c_p = float(c_p)\n",
    "\n",
    "print(\"C= \",float(c),\"C'= \",float(c_p))\n",
    "\n",
    "#Ablation\n",
    "a = colonia.iloc[:ela_max_c,[1]].sum() \n",
    "a_p = colonia.iloc[:ela_max_c+2,[3]].sum()\n",
    "a = float(a)\n",
    "a_p = float(a_p)\n",
    "\n",
    "\n",
    "print(\"A= \",float(a),\"A'= \",float(a_p))\n",
    "\n",
    "aar = colonia.iloc[ela_max_c:,[2]].sum()/sum(colonia.iloc[:,2])\n",
    "aar = float(aar)\n",
    "\n",
    "aar_p = colonia.iloc[ela_max_c+2:,[2]].sum()/sum(colonia.iloc[:,2])\n",
    "aar_p = float(aar_p)\n",
    "\n",
    "print(\"AAR= \",aar,\"AAR'= \",aar_p)\n",
    "\n",
    "#% difference\n",
    "\n",
    "c_perc = (c_p-c)*100/c\n",
    "a_perc = (a_p-a)*100/a\n",
    "aar_perc = (aar_p-aar)*100/aar\n",
    "\n",
    "print(\"c_perc = \",c_perc,\"%\")\n",
    "print(\"a_perc = \",a_perc,\"%\")\n",
    "print(\"aar = \",aar_perc,\"%\")"
   ]
  },
  {
   "cell_type": "markdown",
   "id": "77849b9c-7fa1-479f-ba04-3be2ba2b7a37",
   "metadata": {},
   "source": [
    "#### Calving"
   ]
  },
  {
   "cell_type": "markdown",
   "id": "ed09eae1-688d-40e4-b811-5ab6320efd09",
   "metadata": {},
   "source": [
    "##### San Rafael"
   ]
  },
  {
   "cell_type": "code",
   "execution_count": 75,
   "id": "cbf33b76-58fa-4d4d-af38-3044df67e196",
   "metadata": {},
   "outputs": [
    {
     "name": "stdout",
     "output_type": "stream",
     "text": [
      "balance de masa = 1.227319773975\n",
      "balance de masa con calving = 0.3103197739749999\n",
      "la diferencia es = 0.917\n"
     ]
    }
   ],
   "source": [
    "#Mass balance\n",
    "smb = sum(san_rafael.iloc[:,1]*san_rafael.iloc[:,2])/(10**9)\n",
    "smb_t = smb - 917/1000*1\n",
    "\n",
    "dif = smb - smb_t\n",
    "\n",
    "print(\"balance de masa =\",smb)\n",
    "print(\"balance de masa con calving =\",smb_t)\n",
    "print(\"la diferencia es =\",dif)"
   ]
  },
  {
   "cell_type": "markdown",
   "id": "416404d2-7d58-41e7-abcc-042648020713",
   "metadata": {},
   "source": [
    "##### Colonia"
   ]
  },
  {
   "cell_type": "code",
   "execution_count": 76,
   "id": "8c19e6ee-b853-4bce-b736-60f752fc604e",
   "metadata": {},
   "outputs": [
    {
     "name": "stdout",
     "output_type": "stream",
     "text": [
      "balance de masa = 0.0006966648000000929\n",
      "balance de masa con calving= -0.09100333519999991\n",
      "la diferencia es = 0.0917\n"
     ]
    }
   ],
   "source": [
    "smb = sum(colonia.iloc[:,1]*colonia.iloc[:,2])/(10**9)\n",
    "smb_t = smb - 917/1000*0.1\n",
    "dif = smb - smb_t\n",
    "\n",
    "print(\"balance de masa =\",smb)\n",
    "print(\"balance de masa con calving=\",smb_t)\n",
    "print(\"la diferencia es =\",dif)"
   ]
  },
  {
   "cell_type": "code",
   "execution_count": null,
   "id": "4612c6a5-c176-41cd-8861-b32d9667aff8",
   "metadata": {},
   "outputs": [],
   "source": []
  }
 ],
 "metadata": {
  "kernelspec": {
   "display_name": "Python 3 (ipykernel)",
   "language": "python",
   "name": "python3"
  },
  "language_info": {
   "codemirror_mode": {
    "name": "ipython",
    "version": 3
   },
   "file_extension": ".py",
   "mimetype": "text/x-python",
   "name": "python",
   "nbconvert_exporter": "python",
   "pygments_lexer": "ipython3",
   "version": "3.9.7"
  }
 },
 "nbformat": 4,
 "nbformat_minor": 5
}
