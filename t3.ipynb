{
 "cells": [
  {
   "cell_type": "markdown",
   "id": "2dd01356-77bb-4509-8eb2-4bbda5cd33af",
   "metadata": {},
   "source": [
    "## Energy Balance - Explorador glacier - Patagonia"
   ]
  },
  {
   "cell_type": "markdown",
   "id": "1ddd248f-c20c-4ac1-a7e9-6b69642a4cdd",
   "metadata": {},
   "source": [
    "## import packages"
   ]
  },
  {
   "cell_type": "code",
   "execution_count": 1,
   "id": "70795884-665c-47d8-ae70-59d9ce739b86",
   "metadata": {},
   "outputs": [],
   "source": [
    "import pandas as pd\n",
    "import numpy as np"
   ]
  },
  {
   "cell_type": "markdown",
   "id": "4626fcf5-df38-4e0b-88a9-f4d23268e91f",
   "metadata": {},
   "source": [
    "#### read data"
   ]
  },
  {
   "cell_type": "code",
   "execution_count": 2,
   "id": "0b3c0e2d-bc83-4102-93c8-96ea54c3b02b",
   "metadata": {},
   "outputs": [
    {
     "data": {
      "text/html": [
       "<div>\n",
       "<style scoped>\n",
       "    .dataframe tbody tr th:only-of-type {\n",
       "        vertical-align: middle;\n",
       "    }\n",
       "\n",
       "    .dataframe tbody tr th {\n",
       "        vertical-align: top;\n",
       "    }\n",
       "\n",
       "    .dataframe thead th {\n",
       "        text-align: right;\n",
       "    }\n",
       "</style>\n",
       "<table border=\"1\" class=\"dataframe\">\n",
       "  <thead>\n",
       "    <tr style=\"text-align: right;\">\n",
       "      <th></th>\n",
       "      <th>SW_in(W/m²)</th>\n",
       "      <th>SW_out(W/m²)</th>\n",
       "      <th>LW_in(W/m²)</th>\n",
       "      <th>LW_out(W/m²)</th>\n",
       "      <th>wind_speed(m/s)</th>\n",
       "      <th>wind_direction(degrees)</th>\n",
       "      <th>air_temperature(degrees_Celsius)</th>\n",
       "      <th>atmospheric_pressure(hPa)</th>\n",
       "    </tr>\n",
       "    <tr>\n",
       "      <th>Date_Hour</th>\n",
       "      <th></th>\n",
       "      <th></th>\n",
       "      <th></th>\n",
       "      <th></th>\n",
       "      <th></th>\n",
       "      <th></th>\n",
       "      <th></th>\n",
       "      <th></th>\n",
       "    </tr>\n",
       "  </thead>\n",
       "  <tbody>\n",
       "    <tr>\n",
       "      <th>2017-01-01 00:00:00</th>\n",
       "      <td>-1.623</td>\n",
       "      <td>1.524</td>\n",
       "      <td>330.5</td>\n",
       "      <td>354.8</td>\n",
       "      <td>7.925</td>\n",
       "      <td>246.8</td>\n",
       "      <td>8.17</td>\n",
       "      <td>989</td>\n",
       "    </tr>\n",
       "    <tr>\n",
       "      <th>2017-01-01 01:00:00</th>\n",
       "      <td>-1.607</td>\n",
       "      <td>0.884</td>\n",
       "      <td>336.2</td>\n",
       "      <td>355.5</td>\n",
       "      <td>6.882</td>\n",
       "      <td>345.6</td>\n",
       "      <td>8.49</td>\n",
       "      <td>990</td>\n",
       "    </tr>\n",
       "    <tr>\n",
       "      <th>2017-01-01 02:00:00</th>\n",
       "      <td>-1.595</td>\n",
       "      <td>0.587</td>\n",
       "      <td>349.5</td>\n",
       "      <td>356.4</td>\n",
       "      <td>6.864</td>\n",
       "      <td>343.7</td>\n",
       "      <td>9.04</td>\n",
       "      <td>990</td>\n",
       "    </tr>\n",
       "    <tr>\n",
       "      <th>2017-01-01 03:00:00</th>\n",
       "      <td>-1.834</td>\n",
       "      <td>0.530</td>\n",
       "      <td>343.1</td>\n",
       "      <td>357.4</td>\n",
       "      <td>7.006</td>\n",
       "      <td>338.3</td>\n",
       "      <td>9.54</td>\n",
       "      <td>990</td>\n",
       "    </tr>\n",
       "    <tr>\n",
       "      <th>2017-01-01 04:00:00</th>\n",
       "      <td>-2.934</td>\n",
       "      <td>0.715</td>\n",
       "      <td>362.3</td>\n",
       "      <td>357.2</td>\n",
       "      <td>5.603</td>\n",
       "      <td>343.3</td>\n",
       "      <td>8.98</td>\n",
       "      <td>990</td>\n",
       "    </tr>\n",
       "    <tr>\n",
       "      <th>...</th>\n",
       "      <td>...</td>\n",
       "      <td>...</td>\n",
       "      <td>...</td>\n",
       "      <td>...</td>\n",
       "      <td>...</td>\n",
       "      <td>...</td>\n",
       "      <td>...</td>\n",
       "      <td>...</td>\n",
       "    </tr>\n",
       "    <tr>\n",
       "      <th>2017-03-31 19:00:00</th>\n",
       "      <td>91.100</td>\n",
       "      <td>21.430</td>\n",
       "      <td>358.8</td>\n",
       "      <td>353.3</td>\n",
       "      <td>1.510</td>\n",
       "      <td>230.9</td>\n",
       "      <td>10.35</td>\n",
       "      <td>1000</td>\n",
       "    </tr>\n",
       "    <tr>\n",
       "      <th>2017-03-31 20:00:00</th>\n",
       "      <td>16.630</td>\n",
       "      <td>2.588</td>\n",
       "      <td>350.0</td>\n",
       "      <td>351.6</td>\n",
       "      <td>1.357</td>\n",
       "      <td>207.5</td>\n",
       "      <td>10.39</td>\n",
       "      <td>1001</td>\n",
       "    </tr>\n",
       "    <tr>\n",
       "      <th>2017-03-31 21:00:00</th>\n",
       "      <td>0.661</td>\n",
       "      <td>-1.388</td>\n",
       "      <td>370.4</td>\n",
       "      <td>349.6</td>\n",
       "      <td>1.336</td>\n",
       "      <td>176.3</td>\n",
       "      <td>8.54</td>\n",
       "      <td>1001</td>\n",
       "    </tr>\n",
       "    <tr>\n",
       "      <th>2017-03-31 22:00:00</th>\n",
       "      <td>2.455</td>\n",
       "      <td>-0.010</td>\n",
       "      <td>373.1</td>\n",
       "      <td>350.2</td>\n",
       "      <td>1.352</td>\n",
       "      <td>233.3</td>\n",
       "      <td>8.96</td>\n",
       "      <td>1001</td>\n",
       "    </tr>\n",
       "    <tr>\n",
       "      <th>2017-03-31 23:00:00</th>\n",
       "      <td>0.260</td>\n",
       "      <td>0.414</td>\n",
       "      <td>342.0</td>\n",
       "      <td>348.5</td>\n",
       "      <td>1.956</td>\n",
       "      <td>159.5</td>\n",
       "      <td>8.78</td>\n",
       "      <td>1001</td>\n",
       "    </tr>\n",
       "  </tbody>\n",
       "</table>\n",
       "<p>2122 rows × 8 columns</p>\n",
       "</div>"
      ],
      "text/plain": [
       "                     SW_in(W/m²)  SW_out(W/m²)  LW_in(W/m²)  LW_out(W/m²)  \\\n",
       "Date_Hour                                                                   \n",
       "2017-01-01 00:00:00       -1.623         1.524        330.5         354.8   \n",
       "2017-01-01 01:00:00       -1.607         0.884        336.2         355.5   \n",
       "2017-01-01 02:00:00       -1.595         0.587        349.5         356.4   \n",
       "2017-01-01 03:00:00       -1.834         0.530        343.1         357.4   \n",
       "2017-01-01 04:00:00       -2.934         0.715        362.3         357.2   \n",
       "...                          ...           ...          ...           ...   \n",
       "2017-03-31 19:00:00       91.100        21.430        358.8         353.3   \n",
       "2017-03-31 20:00:00       16.630         2.588        350.0         351.6   \n",
       "2017-03-31 21:00:00        0.661        -1.388        370.4         349.6   \n",
       "2017-03-31 22:00:00        2.455        -0.010        373.1         350.2   \n",
       "2017-03-31 23:00:00        0.260         0.414        342.0         348.5   \n",
       "\n",
       "                     wind_speed(m/s)  wind_direction(degrees)  \\\n",
       "Date_Hour                                                       \n",
       "2017-01-01 00:00:00            7.925                    246.8   \n",
       "2017-01-01 01:00:00            6.882                    345.6   \n",
       "2017-01-01 02:00:00            6.864                    343.7   \n",
       "2017-01-01 03:00:00            7.006                    338.3   \n",
       "2017-01-01 04:00:00            5.603                    343.3   \n",
       "...                              ...                      ...   \n",
       "2017-03-31 19:00:00            1.510                    230.9   \n",
       "2017-03-31 20:00:00            1.357                    207.5   \n",
       "2017-03-31 21:00:00            1.336                    176.3   \n",
       "2017-03-31 22:00:00            1.352                    233.3   \n",
       "2017-03-31 23:00:00            1.956                    159.5   \n",
       "\n",
       "                     air_temperature(degrees_Celsius)  \\\n",
       "Date_Hour                                               \n",
       "2017-01-01 00:00:00                              8.17   \n",
       "2017-01-01 01:00:00                              8.49   \n",
       "2017-01-01 02:00:00                              9.04   \n",
       "2017-01-01 03:00:00                              9.54   \n",
       "2017-01-01 04:00:00                              8.98   \n",
       "...                                               ...   \n",
       "2017-03-31 19:00:00                             10.35   \n",
       "2017-03-31 20:00:00                             10.39   \n",
       "2017-03-31 21:00:00                              8.54   \n",
       "2017-03-31 22:00:00                              8.96   \n",
       "2017-03-31 23:00:00                              8.78   \n",
       "\n",
       "                     atmospheric_pressure(hPa)  \n",
       "Date_Hour                                       \n",
       "2017-01-01 00:00:00                        989  \n",
       "2017-01-01 01:00:00                        990  \n",
       "2017-01-01 02:00:00                        990  \n",
       "2017-01-01 03:00:00                        990  \n",
       "2017-01-01 04:00:00                        990  \n",
       "...                                        ...  \n",
       "2017-03-31 19:00:00                       1000  \n",
       "2017-03-31 20:00:00                       1001  \n",
       "2017-03-31 21:00:00                       1001  \n",
       "2017-03-31 22:00:00                       1001  \n",
       "2017-03-31 23:00:00                       1001  \n",
       "\n",
       "[2122 rows x 8 columns]"
      ]
     },
     "execution_count": 2,
     "metadata": {},
     "output_type": "execute_result"
    }
   ],
   "source": [
    "csv_path = r\"C:\\Users\\pauls\\Desktop\\MSc_WaterResources\\2022\\2022-2\\Glaciologia\\Tareas\\T3\\exploradores2017.csv\"\n",
    "raw_data = pd.read_csv(csv_path, parse_dates = [[\"Date\",\"Hour\"]])\n",
    "raw_data = raw_data.set_index(\"Date_Hour\")\n",
    "raw_data"
   ]
  },
  {
   "cell_type": "markdown",
   "id": "20006f58-6621-4118-bd0d-8a60138c40c9",
   "metadata": {
    "tags": []
   },
   "source": [
    "## 1.- Calculo promedio de los cuatro componentes del balance energético superficial"
   ]
  },
  {
   "cell_type": "markdown",
   "id": "a60b4696-6fce-41ad-98be-ed42c40a26fd",
   "metadata": {},
   "source": [
    "### Filtrado de datos\n",
    "\n",
    "Primero que todo es necesario chequear que todas las componentes del balance superficial (a excepción de la temperatura) sean mayores a 0. \n",
    "Arbitrariamente se decidió eliminar la medición completa (todas las variables) si alguno de estos valores es negativo."
   ]
  },
  {
   "cell_type": "code",
   "execution_count": 3,
   "id": "5c3a7950-0a53-4fcd-8e6b-b010e87ef363",
   "metadata": {},
   "outputs": [
    {
     "data": {
      "text/plain": [
       "array([467, 440,   0,   0,   0,   0,   8], dtype=int64)"
      ]
     },
     "execution_count": 3,
     "metadata": {},
     "output_type": "execute_result"
    }
   ],
   "source": [
    "result = []\n",
    "\n",
    "for i in range(len(raw_data)):\n",
    "    for j in range(len(raw_data.columns)):\n",
    "        if raw_data.iloc[i,j] < 0:\n",
    "            result.append(j)\n",
    "            \n",
    "result\n",
    "count = np.bincount(result)\n",
    "count"
   ]
  },
  {
   "cell_type": "markdown",
   "id": "aa891743-88b5-4592-8dd9-9b3d3c7f0c70",
   "metadata": {},
   "source": [
    "Los resultados anteriores nos muestran que existen valores negativos anómalos en los datos de radiación de onda corta entrante (columna 0) y saliente (columna 1)."
   ]
  },
  {
   "cell_type": "code",
   "execution_count": 4,
   "id": "40108bdb-4f15-47b8-922f-3f2a49aab338",
   "metadata": {},
   "outputs": [],
   "source": [
    "for i in range(len(raw_data)):\n",
    "    if raw_data.iloc[i,0] < 0:\n",
    "        raw_data.iloc[i,:] = np.nan\n",
    "    elif raw_data.iloc[i,1] < 0:\n",
    "        raw_data.iloc[i,:] = np.nan\n",
    "\n",
    "#raw_data"
   ]
  },
  {
   "cell_type": "markdown",
   "id": "f60407aa-2563-4d38-967e-4d4679856b8c",
   "metadata": {},
   "source": [
    "#### Variables"
   ]
  },
  {
   "cell_type": "code",
   "execution_count": 5,
   "id": "ac53eba1-0f3f-4d41-ab85-d91c3c4a4572",
   "metadata": {},
   "outputs": [],
   "source": [
    "raw_data[\"SW_neto(W/m²)\"] = raw_data[\"SW_in(W/m²)\"]-raw_data[\"SW_out(W/m²)\"]\n",
    "raw_data[\"LW_neto(W/m²)\"] = raw_data[\"LW_in(W/m²)\"]-raw_data[\"LW_out(W/m²)\"]\n",
    "#raw_data"
   ]
  },
  {
   "cell_type": "markdown",
   "id": "7408789d-5805-4743-9f2e-cc574c6c5cba",
   "metadata": {},
   "source": [
    "Es necesario volver a chequear en la onda corta si existen valores negativos y filtrarlos"
   ]
  },
  {
   "cell_type": "code",
   "execution_count": 6,
   "id": "a5f0b03b-1465-44bb-a2b2-c36175d782d1",
   "metadata": {},
   "outputs": [
    {
     "data": {
      "text/plain": [
       "58"
      ]
     },
     "execution_count": 6,
     "metadata": {},
     "output_type": "execute_result"
    }
   ],
   "source": [
    "result = []\n",
    "\n",
    "for i in range(len(raw_data)):\n",
    "        if raw_data.iloc[i,8] < 0:\n",
    "            result.append(1)\n",
    "            raw_data.iloc[i,:] = np.nan\n",
    "            \n",
    "sum(result)"
   ]
  },
  {
   "cell_type": "markdown",
   "id": "219e059a-7c00-4c45-8335-bbf39f6b4300",
   "metadata": {},
   "source": [
    "#### 1.1.- Short and long waves net"
   ]
  },
  {
   "cell_type": "code",
   "execution_count": 7,
   "id": "6f6070f6-f303-46da-8838-872f531695ae",
   "metadata": {},
   "outputs": [
    {
     "name": "stdout",
     "output_type": "stream",
     "text": [
      "SW:  227.3318655332303 W/m2\n",
      "LW:  4.595749613601235 W/m2\n"
     ]
    }
   ],
   "source": [
    "sw_neto_mean = raw_data[\"SW_neto(W/m²)\"].mean()\n",
    "lw_neto_mean = raw_data[\"LW_neto(W/m²)\"].mean()\n",
    "\n",
    "print(\"SW: \",sw_neto_mean,\"W/m2\")\n",
    "print(\"LW: \",lw_neto_mean,\"W/m2\")"
   ]
  },
  {
   "cell_type": "markdown",
   "id": "7971c533-c30c-4f48-9d86-bd8de89455fa",
   "metadata": {},
   "source": [
    "#### Flujo turbulento de calor sensible"
   ]
  },
  {
   "cell_type": "markdown",
   "id": "83213a4f-5fc9-4a6a-8138-799db8c334de",
   "metadata": {},
   "source": [
    "Calculamos el calor sensible considerando el coeficiente de transferencia C* igual a 0.002 (Hogg et al., 1982) y Ts = 0°C."
   ]
  },
  {
   "cell_type": "code",
   "execution_count": 8,
   "id": "0bfe2034-81ef-4cdd-aeed-ab3994dc25fd",
   "metadata": {},
   "outputs": [
    {
     "name": "stdout",
     "output_type": "stream",
     "text": [
      "SH:  96.2076618857254 W/m2\n"
     ]
    }
   ],
   "source": [
    "raw_data[\"SH(W/m²)\"] = 0.0129*0.002*raw_data[\"atmospheric_pressure(hPa)\"]*100*raw_data[\"wind_speed(m/s)\"]*raw_data[\"air_temperature(degrees_Celsius)\"]\n",
    "sh_neto_mean = raw_data[\"SH(W/m²)\"].mean()\n",
    "print(\"SH: \", sh_neto_mean.mean(), \"W/m2\")"
   ]
  },
  {
   "cell_type": "code",
   "execution_count": 9,
   "id": "b70fdd1a-79a1-472d-8701-5a56ef8e4ca2",
   "metadata": {},
   "outputs": [
    {
     "data": {
      "image/png": "[encoded data removed]",
      "text/plain": [
       "<Figure size 432x288 with 1 Axes>"
      ]
     },
     "metadata": {
      "needs_background": "light"
     },
     "output_type": "display_data"
    }
   ],
   "source": [
    "raw_data[\"SH(W/m²)\"].plot();"
   ]
  },
  {
   "cell_type": "markdown",
   "id": "9df4b402-b9b0-44c8-ab40-26c273f2d2ae",
   "metadata": {},
   "source": [
    "#### Flujo turbulento de calor latente"
   ]
  },
  {
   "cell_type": "markdown",
   "id": "273ad469-b94c-4b03-918f-c55dfe09d182",
   "metadata": {},
   "source": [
    "El flujo turbulento de calor latente requiere de mayor información, se asumen algunos valores como:"
   ]
  },
  {
   "cell_type": "code",
   "execution_count": 10,
   "id": "09e91119-806d-4b61-a399-dd400d146ff0",
   "metadata": {},
   "outputs": [],
   "source": [
    "pa = 1.29\n",
    "Lv = 2.5*10**6\n",
    "#Ls =28.3*10**5\n",
    "C = 0.002\n",
    "es = 611\n",
    "po = 101300"
   ]
  },
  {
   "cell_type": "markdown",
   "id": "fa9d3ec3-b49e-4b66-8482-44904213f2b7",
   "metadata": {},
   "source": [
    "Ahora es necesario calcular vapor pressure at saturation del hielo en función de la temperatura"
   ]
  },
  {
   "cell_type": "code",
   "execution_count": 11,
   "id": "98bfc188-721f-4995-88a9-56a2368e12f7",
   "metadata": {},
   "outputs": [],
   "source": [
    "raw_data[\"e(Pa)\"] = 0.87*2.38*10**11*(2.718**(-5400/(raw_data[\"air_temperature(degrees_Celsius)\"]+273.15)))"
   ]
  },
  {
   "cell_type": "code",
   "execution_count": 12,
   "id": "f2758c26-c780-4dd2-9b4c-1027aab4a93e",
   "metadata": {},
   "outputs": [
    {
     "name": "stdout",
     "output_type": "stream",
     "text": [
      "LH:  74.06671328038887 W/m2\n"
     ]
    }
   ],
   "source": [
    "raw_data[\"LH(W/m²)\"] = 0.622*pa*Lv*C*raw_data[\"wind_speed(m/s)\"]*(raw_data[\"e(Pa)\"]-es)/po\n",
    "lh_neto_mean = raw_data[\"LH(W/m²)\"].mean()\n",
    "print(\"LH: \",lh_neto_mean, \"W/m2\")"
   ]
  },
  {
   "cell_type": "code",
   "execution_count": 13,
   "id": "e1a42240-3068-4a2a-9e1d-4fa4c6cad8ba",
   "metadata": {},
   "outputs": [
    {
     "data": {
      "image/png": "[encoded data removed]",
      "text/plain": [
       "<Figure size 432x288 with 1 Axes>"
      ]
     },
     "metadata": {
      "needs_background": "light"
     },
     "output_type": "display_data"
    }
   ],
   "source": [
    "raw_data[\"LH(W/m²)\"].plot();"
   ]
  },
  {
   "cell_type": "markdown",
   "id": "f42147f7-3948-4653-9ad7-65ceaa332263",
   "metadata": {},
   "source": [
    "## 3.- Albedo"
   ]
  },
  {
   "cell_type": "markdown",
   "id": "5835e367-e03b-42de-b248-4e91b3fe8dbc",
   "metadata": {},
   "source": [
    "#### Cálculo de albedo con todos los datos"
   ]
  },
  {
   "cell_type": "code",
   "execution_count": 14,
   "id": "30d22913-e58b-46f6-8062-e66f28375f6f",
   "metadata": {},
   "outputs": [
    {
     "data": {
      "text/plain": [
       "0.2161764871821161"
      ]
     },
     "execution_count": 14,
     "metadata": {},
     "output_type": "execute_result"
    }
   ],
   "source": [
    "raw_data[\"albedo\"] = -(raw_data[\"SW_neto(W/m²)\"]/raw_data[\"SW_in(W/m²)\"])+1\n",
    "albedo = raw_data[\"albedo\"].mean()\n",
    "albedo"
   ]
  },
  {
   "cell_type": "code",
   "execution_count": 15,
   "id": "558069ed-e3ab-426f-a4bb-e40662a40b15",
   "metadata": {},
   "outputs": [
    {
     "data": {
      "image/png": "[encoded data removed]",
      "text/plain": [
       "<Figure size 432x288 with 1 Axes>"
      ]
     },
     "metadata": {
      "needs_background": "light"
     },
     "output_type": "display_data"
    }
   ],
   "source": [
    "raw_data[\"albedo\"].plot();"
   ]
  },
  {
   "cell_type": "markdown",
   "id": "3a08e712-3bea-4b90-a5c6-a1470b44a623",
   "metadata": {},
   "source": [
    "#### Cálculo de albedo solo entre 10-15 hrs"
   ]
  },
  {
   "cell_type": "code",
   "execution_count": 16,
   "id": "149b4b32-2631-49d6-914b-a0c8007125dc",
   "metadata": {},
   "outputs": [
    {
     "name": "stdout",
     "output_type": "stream",
     "text": [
      "albedo':  0.2033421129993818\n"
     ]
    }
   ],
   "source": [
    "raw_data[\"albedo'\"] =  raw_data[\"albedo\"]\n",
    "for i in range(len(raw_data)):\n",
    "    if raw_data.index[i].hour >= 10 and raw_data.index[i].hour <= 15:\n",
    "        raw_data[\"albedo'\"][i] = -(raw_data[\"SW_neto(W/m²)\"][i]/raw_data[\"SW_in(W/m²)\"][i])+1\n",
    "    else:\n",
    "        raw_data[\"albedo'\"][i] = np.nan\n",
    "\n",
    "print(\"albedo': \", raw_data[\"albedo'\"].mean())"
   ]
  },
  {
   "cell_type": "code",
   "execution_count": 17,
   "id": "0f91dbc1-c8e2-432b-ab3a-64af9caa7a69",
   "metadata": {},
   "outputs": [
    {
     "data": {
      "image/png": "[encoded data removed]",
      "text/plain": [
       "<Figure size 432x288 with 1 Axes>"
      ]
     },
     "metadata": {
      "needs_background": "light"
     },
     "output_type": "display_data"
    }
   ],
   "source": [
    "raw_data[\"albedo'\"].plot();"
   ]
  },
  {
   "cell_type": "code",
   "execution_count": 18,
   "id": "cf142245-8b8e-4ebf-a2e6-6f5c2bac15a2",
   "metadata": {},
   "outputs": [
    {
     "data": {
      "text/html": [
       "<div>\n",
       "<style scoped>\n",
       "    .dataframe tbody tr th:only-of-type {\n",
       "        vertical-align: middle;\n",
       "    }\n",
       "\n",
       "    .dataframe tbody tr th {\n",
       "        vertical-align: top;\n",
       "    }\n",
       "\n",
       "    .dataframe thead th {\n",
       "        text-align: right;\n",
       "    }\n",
       "</style>\n",
       "<table border=\"1\" class=\"dataframe\">\n",
       "  <thead>\n",
       "    <tr style=\"text-align: right;\">\n",
       "      <th></th>\n",
       "      <th>SW_in(W/m²)</th>\n",
       "      <th>SW_out(W/m²)</th>\n",
       "      <th>LW_in(W/m²)</th>\n",
       "      <th>LW_out(W/m²)</th>\n",
       "      <th>wind_speed(m/s)</th>\n",
       "      <th>wind_direction(degrees)</th>\n",
       "      <th>air_temperature(degrees_Celsius)</th>\n",
       "      <th>atmospheric_pressure(hPa)</th>\n",
       "      <th>SW_neto(W/m²)</th>\n",
       "      <th>LW_neto(W/m²)</th>\n",
       "      <th>SH(W/m²)</th>\n",
       "      <th>e(Pa)</th>\n",
       "      <th>LH(W/m²)</th>\n",
       "      <th>albedo</th>\n",
       "      <th>albedo'</th>\n",
       "    </tr>\n",
       "  </thead>\n",
       "  <tbody>\n",
       "    <tr>\n",
       "      <th>count</th>\n",
       "      <td>1294.000000</td>\n",
       "      <td>1294.000000</td>\n",
       "      <td>1294.000000</td>\n",
       "      <td>1294.000000</td>\n",
       "      <td>1294.000000</td>\n",
       "      <td>1294.000000</td>\n",
       "      <td>1294.000000</td>\n",
       "      <td>1294.000000</td>\n",
       "      <td>1294.000000</td>\n",
       "      <td>1294.000000</td>\n",
       "      <td>1294.000000</td>\n",
       "      <td>1294.000000</td>\n",
       "      <td>1294.000000</td>\n",
       "      <td>1294.000000</td>\n",
       "      <td>528.000000</td>\n",
       "    </tr>\n",
       "    <tr>\n",
       "      <th>mean</th>\n",
       "      <td>284.147050</td>\n",
       "      <td>56.815185</td>\n",
       "      <td>359.970943</td>\n",
       "      <td>355.375193</td>\n",
       "      <td>3.713927</td>\n",
       "      <td>237.603563</td>\n",
       "      <td>8.481390</td>\n",
       "      <td>991.036321</td>\n",
       "      <td>227.331866</td>\n",
       "      <td>4.595750</td>\n",
       "      <td>96.207662</td>\n",
       "      <td>1004.546907</td>\n",
       "      <td>74.066713</td>\n",
       "      <td>0.216176</td>\n",
       "      <td>0.203342</td>\n",
       "    </tr>\n",
       "    <tr>\n",
       "      <th>std</th>\n",
       "      <td>281.603023</td>\n",
       "      <td>60.084721</td>\n",
       "      <td>24.523512</td>\n",
       "      <td>9.347596</td>\n",
       "      <td>2.584508</td>\n",
       "      <td>72.720509</td>\n",
       "      <td>3.677082</td>\n",
       "      <td>6.445518</td>\n",
       "      <td>228.554193</td>\n",
       "      <td>22.179049</td>\n",
       "      <td>84.625905</td>\n",
       "      <td>254.508704</td>\n",
       "      <td>74.221650</td>\n",
       "      <td>0.112903</td>\n",
       "      <td>0.061719</td>\n",
       "    </tr>\n",
       "    <tr>\n",
       "      <th>min</th>\n",
       "      <td>0.191000</td>\n",
       "      <td>0.010000</td>\n",
       "      <td>281.900000</td>\n",
       "      <td>332.500000</td>\n",
       "      <td>0.099000</td>\n",
       "      <td>27.270000</td>\n",
       "      <td>-0.835000</td>\n",
       "      <td>968.000000</td>\n",
       "      <td>0.003000</td>\n",
       "      <td>-63.200000</td>\n",
       "      <td>-0.841857</td>\n",
       "      <td>506.920500</td>\n",
       "      <td>-1.857032</td>\n",
       "      <td>0.008977</td>\n",
       "      <td>0.077007</td>\n",
       "    </tr>\n",
       "    <tr>\n",
       "      <th>25%</th>\n",
       "      <td>50.755000</td>\n",
       "      <td>9.885000</td>\n",
       "      <td>346.000000</td>\n",
       "      <td>348.700000</td>\n",
       "      <td>1.287500</td>\n",
       "      <td>175.100000</td>\n",
       "      <td>5.667000</td>\n",
       "      <td>988.000000</td>\n",
       "      <td>40.782500</td>\n",
       "      <td>-10.350000</td>\n",
       "      <td>18.935742</td>\n",
       "      <td>804.918015</td>\n",
       "      <td>10.977783</td>\n",
       "      <td>0.133560</td>\n",
       "      <td>0.133358</td>\n",
       "    </tr>\n",
       "    <tr>\n",
       "      <th>50%</th>\n",
       "      <td>192.200000</td>\n",
       "      <td>36.115000</td>\n",
       "      <td>363.100000</td>\n",
       "      <td>354.700000</td>\n",
       "      <td>3.087500</td>\n",
       "      <td>226.450000</td>\n",
       "      <td>8.465000</td>\n",
       "      <td>992.000000</td>\n",
       "      <td>154.080000</td>\n",
       "      <td>10.100000</td>\n",
       "      <td>71.661636</td>\n",
       "      <td>975.692711</td>\n",
       "      <td>47.768307</td>\n",
       "      <td>0.218806</td>\n",
       "      <td>0.222300</td>\n",
       "    </tr>\n",
       "    <tr>\n",
       "      <th>75%</th>\n",
       "      <td>442.750000</td>\n",
       "      <td>85.975000</td>\n",
       "      <td>375.925000</td>\n",
       "      <td>361.575000</td>\n",
       "      <td>5.949500</td>\n",
       "      <td>316.675000</td>\n",
       "      <td>11.167500</td>\n",
       "      <td>995.000000</td>\n",
       "      <td>354.050000</td>\n",
       "      <td>20.175000</td>\n",
       "      <td>161.056350</td>\n",
       "      <td>1170.741326</td>\n",
       "      <td>121.440066</td>\n",
       "      <td>0.255258</td>\n",
       "      <td>0.249355</td>\n",
       "    </tr>\n",
       "    <tr>\n",
       "      <th>max</th>\n",
       "      <td>1214.000000</td>\n",
       "      <td>293.700000</td>\n",
       "      <td>421.000000</td>\n",
       "      <td>394.900000</td>\n",
       "      <td>11.080000</td>\n",
       "      <td>347.300000</td>\n",
       "      <td>19.150000</td>\n",
       "      <td>1005.000000</td>\n",
       "      <td>1057.500000</td>\n",
       "      <td>53.300000</td>\n",
       "      <td>386.350860</td>\n",
       "      <td>1966.517619</td>\n",
       "      <td>418.585288</td>\n",
       "      <td>0.997425</td>\n",
       "      <td>0.391232</td>\n",
       "    </tr>\n",
       "  </tbody>\n",
       "</table>\n",
       "</div>"
      ],
      "text/plain": [
       "       SW_in(W/m²)  SW_out(W/m²)  LW_in(W/m²)  LW_out(W/m²)  wind_speed(m/s)  \\\n",
       "count  1294.000000   1294.000000  1294.000000   1294.000000      1294.000000   \n",
       "mean    284.147050     56.815185   359.970943    355.375193         3.713927   \n",
       "std     281.603023     60.084721    24.523512      9.347596         2.584508   \n",
       "min       0.191000      0.010000   281.900000    332.500000         0.099000   \n",
       "25%      50.755000      9.885000   346.000000    348.700000         1.287500   \n",
       "50%     192.200000     36.115000   363.100000    354.700000         3.087500   \n",
       "75%     442.750000     85.975000   375.925000    361.575000         5.949500   \n",
       "max    1214.000000    293.700000   421.000000    394.900000        11.080000   \n",
       "\n",
       "       wind_direction(degrees)  air_temperature(degrees_Celsius)  \\\n",
       "count              1294.000000                       1294.000000   \n",
       "mean                237.603563                          8.481390   \n",
       "std                  72.720509                          3.677082   \n",
       "min                  27.270000                         -0.835000   \n",
       "25%                 175.100000                          5.667000   \n",
       "50%                 226.450000                          8.465000   \n",
       "75%                 316.675000                         11.167500   \n",
       "max                 347.300000                         19.150000   \n",
       "\n",
       "       atmospheric_pressure(hPa)  SW_neto(W/m²)  LW_neto(W/m²)     SH(W/m²)  \\\n",
       "count                1294.000000    1294.000000    1294.000000  1294.000000   \n",
       "mean                  991.036321     227.331866       4.595750    96.207662   \n",
       "std                     6.445518     228.554193      22.179049    84.625905   \n",
       "min                   968.000000       0.003000     -63.200000    -0.841857   \n",
       "25%                   988.000000      40.782500     -10.350000    18.935742   \n",
       "50%                   992.000000     154.080000      10.100000    71.661636   \n",
       "75%                   995.000000     354.050000      20.175000   161.056350   \n",
       "max                  1005.000000    1057.500000      53.300000   386.350860   \n",
       "\n",
       "             e(Pa)     LH(W/m²)       albedo     albedo'  \n",
       "count  1294.000000  1294.000000  1294.000000  528.000000  \n",
       "mean   1004.546907    74.066713     0.216176    0.203342  \n",
       "std     254.508704    74.221650     0.112903    0.061719  \n",
       "min     506.920500    -1.857032     0.008977    0.077007  \n",
       "25%     804.918015    10.977783     0.133560    0.133358  \n",
       "50%     975.692711    47.768307     0.218806    0.222300  \n",
       "75%    1170.741326   121.440066     0.255258    0.249355  \n",
       "max    1966.517619   418.585288     0.997425    0.391232  "
      ]
     },
     "execution_count": 18,
     "metadata": {},
     "output_type": "execute_result"
    }
   ],
   "source": [
    "raw_data.describe()"
   ]
  },
  {
   "cell_type": "markdown",
   "id": "c0555fcc-f822-4eab-9781-436269d1cf3f",
   "metadata": {},
   "source": [
    "## 3.- Estimación derretimiento"
   ]
  },
  {
   "cell_type": "markdown",
   "id": "c2f1fdaa-b425-448b-97b1-ca6981541b8c",
   "metadata": {},
   "source": [
    "Primero que todo se asume que la temperatura superficial del glaciar está en el punto de fusión."
   ]
  },
  {
   "cell_type": "code",
   "execution_count": 26,
   "id": "58b3e4f4-cf0d-4748-b39f-2bf815de7282",
   "metadata": {
    "tags": []
   },
   "outputs": [
    {
     "name": "stdout",
     "output_type": "stream",
     "text": [
      "9.363840349321755 m/s\n"
     ]
    }
   ],
   "source": [
    "dw = 1000\n",
    "lf = 3.34*10**5\n",
    "melt = (sw_neto_mean+lw_neto_mean+sh_neto_mean+lh_neto_mean)/(dw*lf)\n",
    "print(melt*86400*(31+28+31),\"m/s\")"
   ]
  },
  {
   "cell_type": "code",
   "execution_count": 20,
   "id": "6b412c23-725a-4e89-9c69-adb9763a38ce",
   "metadata": {},
   "outputs": [
    {
     "data": {
      "text/plain": [
       "402.2019903129458"
      ]
     },
     "execution_count": 20,
     "metadata": {},
     "output_type": "execute_result"
    }
   ],
   "source": [
    "sw_neto_mean+lw_neto_mean+sh_neto_mean+lh_neto_mean"
   ]
  },
  {
   "cell_type": "code",
   "execution_count": 21,
   "id": "ad40e554-5524-4602-b49e-9da405302b98",
   "metadata": {},
   "outputs": [],
   "source": [
    "raw_data.to_excel(\"exploradores_full.xlsx\")"
   ]
  },
  {
   "cell_type": "code",
   "execution_count": null,
   "id": "42c0a81b-27b1-4350-ad7c-e0c538a68639",
   "metadata": {},
   "outputs": [],
   "source": []
  }
 ],
 "metadata": {
  "kernelspec": {
   "display_name": "Python 3 (ipykernel)",
   "language": "python",
   "name": "python3"
  },
  "language_info": {
   "codemirror_mode": {
    "name": "ipython",
    "version": 3
   },
   "file_extension": ".py",
   "mimetype": "text/x-python",
   "name": "python",
   "nbconvert_exporter": "python",
   "pygments_lexer": "ipython3",
   "version": "3.9.7"
  }
 },
 "nbformat": 4,
 "nbformat_minor": 5
}
